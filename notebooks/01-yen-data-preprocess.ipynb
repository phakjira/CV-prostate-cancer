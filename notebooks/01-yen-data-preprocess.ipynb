{
 "cells": [
  {
   "cell_type": "code",
   "execution_count": 1,
   "metadata": {},
   "outputs": [
    {
     "name": "stderr",
     "output_type": "stream",
     "text": [
      "2023-05-07 12:35:51.524765: I tensorflow/core/platform/cpu_feature_guard.cc:182] This TensorFlow binary is optimized to use available CPU instructions in performance-critical operations.\n",
      "To enable the following instructions: AVX2 AVX512F AVX512_VNNI FMA, in other operations, rebuild TensorFlow with the appropriate compiler flags.\n"
     ]
    }
   ],
   "source": [
    "import numpy as np\n",
    "import matplotlib.pyplot as plt\n",
    "import pandas as pd\n",
    "import seaborn as sns\n",
    "import SimpleITK as sitk\n",
    "import cv2\n",
    "from sklearn import datasets\n",
    "from sklearn import metrics\n",
    "from sklearn import model_selection\n",
    "from sklearn import preprocessing\n",
    "import tensorflow as tf\n",
    "import torch\n",
    "import torch.nn as nn\n",
    "import torch.nn.functional as F\n",
    "import torch.optim as optim\n",
    "from torch.utils.data import DataLoader, TensorDataset\n",
    "from torch.utils.data.dataset import random_split\n",
    "from torch.utils.data import Dataset\n",
    "from torch.utils.data import DataLoader\n",
    "from torch.utils.data import random_split\n",
    "from torch.utils.data import Subset\n",
    "import warnings\n",
    "warnings.filterwarnings('ignore')"
   ]
  },
  {
   "cell_type": "code",
   "execution_count": 18,
   "metadata": {},
   "outputs": [],
   "source": [
    "from os import listdir\n",
    "from os.path import isfile, join\n",
    "mypath = '/Users/yenhann/Downloads/cv_airdrop_yen/'\n",
    "\n",
    "# store patient ID and path to patient ID folder within cv_airdrop_yen\n",
    "patients = [[f,join(mypath, f)] for f in listdir(mypath) if(f!='.DS_Store')]\n",
    "patients.sort()\n",
    "\n",
    "adc = {}\n",
    "cor = {}\n",
    "hbv = {}\n",
    "sag = {}\n",
    "t2w = {}\n",
    "for patient, dir in patients:\n",
    "\n",
    "    # for each patient in the `patients` matrix, extract patient ID as `patient` and the directory to that patient ID `dir`\n",
    "    file = [join(dir, f) for f in listdir(dir) if(f!='.DS_Store')]\n",
    "    file.sort()\n",
    "    \n",
    "    # # get all the files within the `dir` for each patient\n",
    "    # print(patient)\n",
    "    # print(file)\n",
    "\n",
    "    adc_img = sitk.ReadImage(file[0])\n",
    "    adc[patient] = sitk.GetArrayFromImage(adc_img)\n",
    "\n",
    "    cor_img = sitk.ReadImage(file[1])\n",
    "    cor[patient] = sitk.GetArrayFromImage(cor_img)\n",
    "\n",
    "    hbv_img = sitk.ReadImage(file[2])\n",
    "    hbv[patient] = sitk.GetArrayFromImage(hbv_img)\n",
    "\n",
    "    sag_img = sitk.ReadImage(file[3])\n",
    "    sag[patient] = sitk.GetArrayFromImage(sag_img)\n",
    "\n",
    "    t2w_img = sitk.ReadImage(file[4])\n",
    "    t2w[patient] = sitk.GetArrayFromImage(t2w_img)\n",
    "\n",
    "all_data = {'adc':adc, 'cor':cor, 'hbv':hbv, 'sag':sag, 't2w':t2w}"
   ]
  },
  {
   "cell_type": "code",
   "execution_count": 17,
   "metadata": {},
   "outputs": [
    {
     "data": {
      "text/plain": [
       "[['10000', '/Users/yenhann/Downloads/cv_airdrop_yen/10000'],\n",
       " ['10001', '/Users/yenhann/Downloads/cv_airdrop_yen/10001'],\n",
       " ['10003', '/Users/yenhann/Downloads/cv_airdrop_yen/10003'],\n",
       " ['10006', '/Users/yenhann/Downloads/cv_airdrop_yen/10006'],\n",
       " ['10017', '/Users/yenhann/Downloads/cv_airdrop_yen/10017'],\n",
       " ['10020', '/Users/yenhann/Downloads/cv_airdrop_yen/10020'],\n",
       " ['10022', '/Users/yenhann/Downloads/cv_airdrop_yen/10022'],\n",
       " ['10023', '/Users/yenhann/Downloads/cv_airdrop_yen/10023'],\n",
       " ['10027', '/Users/yenhann/Downloads/cv_airdrop_yen/10027'],\n",
       " ['10029', '/Users/yenhann/Downloads/cv_airdrop_yen/10029'],\n",
       " ['10032', '/Users/yenhann/Downloads/cv_airdrop_yen/10032'],\n",
       " ['10033', '/Users/yenhann/Downloads/cv_airdrop_yen/10033'],\n",
       " ['10035', '/Users/yenhann/Downloads/cv_airdrop_yen/10035'],\n",
       " ['10038', '/Users/yenhann/Downloads/cv_airdrop_yen/10038'],\n",
       " ['10040', '/Users/yenhann/Downloads/cv_airdrop_yen/10040'],\n",
       " ['10041', '/Users/yenhann/Downloads/cv_airdrop_yen/10041']]"
      ]
     },
     "execution_count": 17,
     "metadata": {},
     "output_type": "execute_result"
    }
   ],
   "source": [
    "all_data['adc']"
   ]
  },
  {
   "cell_type": "code",
   "execution_count": null,
   "metadata": {},
   "outputs": [],
   "source": []
  }
 ],
 "metadata": {
  "kernelspec": {
   "display_name": "Python 3.9.13 ('base')",
   "language": "python",
   "name": "python3"
  },
  "language_info": {
   "codemirror_mode": {
    "name": "ipython",
    "version": 3
   },
   "file_extension": ".py",
   "mimetype": "text/x-python",
   "name": "python",
   "nbconvert_exporter": "python",
   "pygments_lexer": "ipython3",
   "version": "3.9.13"
  },
  "orig_nbformat": 4,
  "vscode": {
   "interpreter": {
    "hash": "4da98d95051a52da8c094cb6991c274a25cedfadc1a6d330cb8064cfb9870c7d"
   }
  }
 },
 "nbformat": 4,
 "nbformat_minor": 2
}
